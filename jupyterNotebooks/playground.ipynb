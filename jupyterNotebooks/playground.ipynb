{
 "cells": [
  {
   "cell_type": "code",
   "execution_count": 4,
   "metadata": {
    "collapsed": true
   },
   "outputs": [],
   "source": [
    "%matplotlib inline\n",
    "import matplotlib.pyplot as plt\n",
    "import numpy as np\n",
    "import pandas as pd\n",
    "plt.style.use('ggplot')\n",
    "import glob\n",
    "import os"
   ]
  },
  {
   "cell_type": "code",
   "execution_count": 3,
   "metadata": {
    "collapsed": false
   },
   "outputs": [
    {
     "name": "stdout",
     "output_type": "stream",
     "text": [
      "['./clustering', './gss', './init_jupyter.txt', './LinearRegression', './model_tutorial', './movieRating', './playground.ipynb', './readme.md']\n"
     ]
    }
   ],
   "source": [
    "# handle bottom-up data\n",
    "csvs1 = glob.glob('./bottomup/*csv')\n",
    "data1 = {}\n",
    "for f in csvs1:\n",
    "    content = open(f).read().splitlines()[1:]\n",
    "    for line in content:\n",
    "        tmp = line.split(',', 1)[0]\n",
    "        if tmp not in data1:\n",
    "            data1[tmp] = []\n",
    "        data1[tmp].append('%s,%s' % (os.path.basename(f).replace('.csv', ''), line))\n",
    "for k, v in data1.iteritems():\n",
    "    with open('./out/bu_%s.csv' % k, 'wb') as fout:\n",
    "        fout.write('\\n'.join(v))\n",
    "\n",
    "# handle top-down data\n",
    "csvs2 = glob.glob('./topdown/*csv')\n",
    "data2 = {}\n",
    "for f in csvs2:\n",
    "    content = open(f).read().splitlines()[1:]\n",
    "    for line in content:\n",
    "        d, v = line.split(',', 1)\n",
    "        if d not in data2:\n",
    "            data2[d] = []\n",
    "        data2[d].append(v)\n",
    "for k, v in data2.iteritems():\n",
    "    with open('./out/td_%s.csv' % k, 'wb') as fout:\n",
    "        fout.write('%s,%s' % (k, ','.join(v)))"
   ]
  },
  {
   "cell_type": "code",
   "execution_count": 19,
   "metadata": {
    "collapsed": false
   },
   "outputs": [
    {
     "name": "stdout",
     "output_type": "stream",
     "text": [
      "0\n",
      "\t0\n",
      "\t2\n",
      "\t1\n",
      "1\n",
      "\t3\n",
      "\t2\n",
      "\t1\n",
      "2\n",
      "\t2\n",
      "\t0\n",
      "\t4\n",
      "3\n",
      "\t3\n",
      "\t2\n",
      "\t1\n",
      "4\n",
      "\t4\n",
      "\t2\n",
      "\t3\n"
     ]
    },
    {
     "data": {
      "image/png": "[encoded data removed]",
      "text/plain": [
       "<matplotlib.figure.Figure at 0x115181190>"
      ]
     },
     "metadata": {},
     "output_type": "display_data"
    }
   ],
   "source": [
    "def price_predict(train, test):\n",
    "    "
   ]
  },
  {
   "cell_type": "code",
   "execution_count": 20,
   "metadata": {
    "collapsed": false
   },
   "outputs": [
    {
     "data": {
      "text/plain": [
       "array([[0, 2, 1, 3, 4],\n",
       "       [3, 2, 1, 0, 4],\n",
       "       [2, 0, 4, 3, 1],\n",
       "       [3, 2, 1, 4, 0],\n",
       "       [4, 2, 3, 0, 1]])"
      ]
     },
     "execution_count": 20,
     "metadata": {},
     "output_type": "execute_result"
    }
   ],
   "source": [
    "nearest_partition"
   ]
  },
  {
   "cell_type": "code",
   "execution_count": 14,
   "metadata": {
    "collapsed": false
   },
   "outputs": [
    {
     "data": {
      "text/plain": [
       "array([[[ 0.        ,  0.        ],\n",
       "        [-0.618788  , -0.37339061],\n",
       "        [ 0.0693856 , -0.30060366],\n",
       "        [-0.30123076, -0.66441935],\n",
       "        [ 0.24758498, -0.71635541]],\n",
       "\n",
       "       [[ 0.618788  ,  0.37339061],\n",
       "        [ 0.        ,  0.        ],\n",
       "        [ 0.6881736 ,  0.07278695],\n",
       "        [ 0.31755724, -0.29102874],\n",
       "        [ 0.86637298, -0.3429648 ]],\n",
       "\n",
       "       [[-0.0693856 ,  0.30060366],\n",
       "        [-0.6881736 , -0.07278695],\n",
       "        [ 0.        ,  0.        ],\n",
       "        [-0.37061636, -0.36381569],\n",
       "        [ 0.17819938, -0.41575174]],\n",
       "\n",
       "       [[ 0.30123076,  0.66441935],\n",
       "        [-0.31755724,  0.29102874],\n",
       "        [ 0.37061636,  0.36381569],\n",
       "        [ 0.        ,  0.        ],\n",
       "        [ 0.54881574, -0.05193606]],\n",
       "\n",
       "       [[-0.24758498,  0.71635541],\n",
       "        [-0.86637298,  0.3429648 ],\n",
       "        [-0.17819938,  0.41575174],\n",
       "        [-0.54881574,  0.05193606],\n",
       "        [ 0.        ,  0.        ]]])"
      ]
     },
     "execution_count": 14,
     "metadata": {},
     "output_type": "execute_result"
    }
   ],
   "source": [
    "X[:,np.newaxis,:]-X[np.newaxis,:,:]"
   ]
  },
  {
   "cell_type": "code",
   "execution_count": null,
   "metadata": {
    "collapsed": true
   },
   "outputs": [],
   "source": []
  }
 ],
 "metadata": {
  "anaconda-cloud": {},
  "kernelspec": {
   "display_name": "Python [Root]",
   "language": "python",
   "name": "Python [Root]"
  },
  "language_info": {
   "codemirror_mode": {
    "name": "ipython",
    "version": 2
   },
   "file_extension": ".py",
   "mimetype": "text/x-python",
   "name": "python",
   "nbconvert_exporter": "python",
   "pygments_lexer": "ipython2",
   "version": "2.7.12"
  }
 },
 "nbformat": 4,
 "nbformat_minor": 0
}

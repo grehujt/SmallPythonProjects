{
 "cells": [
  {
   "cell_type": "code",
   "execution_count": 3,
   "metadata": {
    "collapsed": true
   },
   "outputs": [],
   "source": [
    "%matplotlib inline\n",
    "\n",
    "import glob\n",
    "import os\n",
    "\n",
    "import matplotlib.pyplot as plt\n",
    "import numpy as np\n",
    "import pandas as pd\n",
    "plt.style.use('ggplot')"
   ]
  },
  {
   "cell_type": "code",
   "execution_count": 11,
   "metadata": {
    "collapsed": false
   },
   "outputs": [],
   "source": [
    "## handle bottom-up data\n",
    "#csvs1 = glob.glob('./bottomup/*csv')\n",
    "#data1 = {}\n",
    "#for f in csvs1:\n",
    "#    content = open(f).read().splitlines()[1:]\n",
    "#    for line in content:\n",
    "#        tmp = line.split(',', 1)[0]\n",
    "#        if tmp not in data1:\n",
    "#            data1[tmp] = []\n",
    "#        data1[tmp].append('%s,%s' % (os.path.basename(f).replace('.csv', ''), line))\n",
    "#for k, v in data1.iteritems():\n",
    "#    with open('./stock_data/bu_%s.csv' % k, 'wb') as fout:\n",
    "#        fout.write('\\n'.join(v))\n",
    "\n",
    "# handle top-down data\n",
    "#csvs2 = glob.glob('./topdown/*csv')\n",
    "#data2 = {}\n",
    "#for f in csvs2:\n",
    "#    content = open(f).read().splitlines()[1:]\n",
    "#    for line in content:\n",
    "#        d, v = line.split(',', 1)\n",
    "#        if d not in data2:\n",
    "#            data2[d] = []\n",
    "#        data2[d].append(v)\n",
    "#with open('./stock_data/td.csv', 'wb') as fout:\n",
    "#    for k, v in data2.iteritems():\n",
    "#        fout.write('%s,%s\\n' % (k, ','.join(v)))"
   ]
  },
  {
   "cell_type": "code",
   "execution_count": 19,
   "metadata": {
    "collapsed": false
   },
   "outputs": [],
   "source": [
    "t = np.loadtxt('./stocks_data/bu_00164V10.csv', delimiter=',', dtype=str)\n",
    "t[:, 2:-1] = t[:, 2:-1].astype(np.float64)"
   ]
  },
  {
   "cell_type": "code",
   "execution_count": 20,
   "metadata": {
    "collapsed": false
   },
   "outputs": [
    {
     "data": {
      "text/plain": [
       "array([['20110731', '00164V10', '0.0349897907541', ..., '0.0', '0.0',\n",
       "        '2011-07-31'],\n",
       "       ['20110831', '00164V10', '-0.0149891992693', ..., '0.0', '0.0',\n",
       "        '2011-08-31'],\n",
       "       ['20110930', '00164V10', '-0.152797324281', ..., '0.0', '0.0',\n",
       "        '2011-09-30'],\n",
       "       ['20111031', '00164V10', '0.125949179814', ..., '0.0', '0.0',\n",
       "        '2011-10-31'],\n",
       "       ['20111130', '00164V10', '0.0286015755692', ..., '0.0', '0.0',\n",
       "        '2011-11-30']], \n",
       "      dtype='|S18')"
      ]
     },
     "execution_count": 20,
     "metadata": {},
     "output_type": "execute_result"
    }
   ],
   "source": []
  },
  {
   "cell_type": "code",
   "execution_count": 24,
   "metadata": {
    "collapsed": false
   },
   "outputs": [
    {
     "data": {
      "text/plain": [
       "array([['20110731', '0.0349897907541', '0.0', ..., '0.0', '0.0', '0.0'],\n",
       "       ['20110831', '-0.0149891992693', '0.0', ..., '0.0', '0.0', '0.0'],\n",
       "       ['20110930', '-0.152797324281', '0.0', ..., '0.0', '0.0', '0.0'],\n",
       "       ['20111031', '0.125949179814', '0.0', ..., '0.0', '0.0', '0.0'],\n",
       "       ['20111130', '0.0286015755692', '0.0', ..., '0.0', '0.0', '0.0']], \n",
       "      dtype='|S18')"
      ]
     },
     "execution_count": 24,
     "metadata": {},
     "output_type": "execute_result"
    }
   ],
   "source": [
    "np.hstack((t[:, 0].reshape(-1, 1), t[:, 2:-1]))[:5]"
   ]
  },
  {
   "cell_type": "code",
   "execution_count": 28,
   "metadata": {
    "collapsed": false
   },
   "outputs": [
    {
     "data": {
      "text/plain": [
       "array([[  2.01107310e+07,   3.49897908e-02,   0.00000000e+00, ...,\n",
       "          0.00000000e+00,   0.00000000e+00,   0.00000000e+00],\n",
       "       [  2.01108310e+07,  -1.49891993e-02,   0.00000000e+00, ...,\n",
       "          0.00000000e+00,   0.00000000e+00,   0.00000000e+00],\n",
       "       [  2.01109300e+07,  -1.52797324e-01,   0.00000000e+00, ...,\n",
       "          0.00000000e+00,   0.00000000e+00,   0.00000000e+00],\n",
       "       [  2.01110310e+07,   1.25949180e-01,   0.00000000e+00, ...,\n",
       "          0.00000000e+00,   0.00000000e+00,   0.00000000e+00],\n",
       "       [  2.01111300e+07,   2.86015756e-02,   0.00000000e+00, ...,\n",
       "          0.00000000e+00,   0.00000000e+00,   0.00000000e+00]])"
      ]
     },
     "execution_count": 28,
     "metadata": {},
     "output_type": "execute_result"
    }
   ],
   "source": [
    "mat = np.hstack((t[:, 0].reshape(-1, 1), t[:, 2:-1])).astype(np.float64)\n",
    "mat[:5]"
   ]
  },
  {
   "cell_type": "code",
   "execution_count": null,
   "metadata": {
    "collapsed": false
   },
   "outputs": [],
   "source": []
  },
  {
   "cell_type": "code",
   "execution_count": null,
   "metadata": {
    "collapsed": true
   },
   "outputs": [],
   "source": []
  }
 ],
 "metadata": {
  "anaconda-cloud": {},
  "kernelspec": {
   "display_name": "Python [Root]",
   "language": "python",
   "name": "Python [Root]"
  },
  "language_info": {
   "codemirror_mode": {
    "name": "ipython",
    "version": 2
   },
   "file_extension": ".py",
   "mimetype": "text/x-python",
   "name": "python",
   "nbconvert_exporter": "python",
   "pygments_lexer": "ipython2",
   "version": "2.7.12"
  }
 },
 "nbformat": 4,
 "nbformat_minor": 0
}

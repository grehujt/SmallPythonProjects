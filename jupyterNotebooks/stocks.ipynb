{
 "cells": [
  {
   "cell_type": "code",
   "execution_count": 38,
   "metadata": {
    "collapsed": true
   },
   "outputs": [],
   "source": [
    "%matplotlib inline\n",
    "\n",
    "import glob\n",
    "import os\n",
    "import re\n",
    "\n",
    "import matplotlib.pyplot as plt\n",
    "import numpy as np\n",
    "import pandas as pd\n",
    "plt.style.use('ggplot')"
   ]
  },
  {
   "cell_type": "code",
   "execution_count": 2,
   "metadata": {
    "collapsed": false
   },
   "outputs": [],
   "source": [
    "## handle bottom-up data\n",
    "#csvs1 = glob.glob('./bottomup/*csv')\n",
    "#data1 = {}\n",
    "#for f in csvs1:\n",
    "#    content = open(f).read().splitlines()[1:]\n",
    "#    for line in content:\n",
    "#        tmp = line.split(',', 1)[0]\n",
    "#        if tmp not in data1:\n",
    "#            data1[tmp] = []\n",
    "#        data1[tmp].append('%s,%s' % (os.path.basename(f).replace('.csv', ''), line))\n",
    "#for k, v in data1.iteritems():\n",
    "#    with open('./stock_data/bu_%s.csv' % k, 'wb') as fout:\n",
    "#        fout.write('\\n'.join(v))\n",
    "\n",
    "# handle top-down data\n",
    "#csvs2 = glob.glob('./topdown/*csv')\n",
    "#data2 = {}\n",
    "#for f in csvs2:\n",
    "#    content = open(f).read().splitlines()[1:]\n",
    "#    for line in content:\n",
    "#        d, v = line.split(',', 1)\n",
    "#        d = d.replace('-', '')\n",
    "#        if d not in data2:\n",
    "#            data2[d] = []\n",
    "#        data2[d].append(v)\n",
    "#with open('./stock_data/td.csv', 'wb') as fout:\n",
    "#    for k, v in data2.iteritems():\n",
    "#        fout.write('%s,%s\\n' % (k, ','.join(v)))"
   ]
  },
  {
   "cell_type": "code",
   "execution_count": 39,
   "metadata": {
    "collapsed": false
   },
   "outputs": [
    {
     "name": "stdout",
     "output_type": "stream",
     "text": [
      "(249, 14)\n"
     ]
    }
   ],
   "source": [
    "# load top-down data\n",
    "data = np.loadtxt('./stocks_data/td.csv', delimiter=',')\n",
    "tdDate = data[:, 0].astype(np.float64).reshape(-1, 1)\n",
    "tdMat = data[:, 1:]\n",
    "data = None\n",
    "print tdMat.shape"
   ]
  },
  {
   "cell_type": "code",
   "execution_count": 86,
   "metadata": {
    "collapsed": false
   },
   "outputs": [],
   "source": [
    "from sklearn import linear_model\n",
    "import sklearn.feature_selection as fs\n",
    "from sklearn.pipeline import Pipeline\n",
    "\n",
    "def predict_stock_returns(stockId, k):\n",
    "    # load stock data\n",
    "    data = np.loadtxt('./stocks_data/bu_%s.csv' % stockId, delimiter=',', dtype=str, ndmin=2)\n",
    "    stockDate = data[:, 0].astype(np.float64)\n",
    "    X = data[:, 3:-1].astype(np.float64)\n",
    "    Y = data[:, 2].astype(np.float64)\n",
    "    \n",
    "    if stockDate.shape[0] == 1:\n",
    "        return np.hstack((stockDate.reshape(-1, 1), Y.reshape(-1, 1)))\n",
    "    \n",
    "    # combine top-down data into individual stock data as new factors\n",
    "    sel = np.in1d(tdDate, stockDate)\n",
    "    X_extended = np.hstack((X, tdMat[sel]))\n",
    "    \n",
    "    # build model \n",
    "    ret = np.hstack((stockDate.reshape(-1, 1), np.zeros((stockDate.shape[0], 1), dtype=np.float64)))\n",
    "    ret[0, 1] = Y[0]\n",
    "    ret[-1, 1] = Y[-1]\n",
    "    for i in range(len(stockDate)-1):\n",
    "        testDate = stockDate[i+1]\n",
    "        sel_train = stockDate < testDate\n",
    "        sel_test = stockDate == testDate\n",
    "        X_train, Y_train = X_extended[sel_train], Y[sel_train]\n",
    "        X_test = X_extended[sel_test]\n",
    "        model = Pipeline([\n",
    "                ('fs', fs.SelectKBest(fs.f_regression, k=k)),\n",
    "                ('lr', linear_model.LinearRegression())\n",
    "            ]).fit(X_train, Y_train)\n",
    "        ret[i, 1] = model.predict(X_test)\n",
    "    return ret"
   ]
  },
  {
   "cell_type": "code",
   "execution_count": 95,
   "metadata": {
    "collapsed": false
   },
   "outputs": [],
   "source": [
    "stockIds = [re.findall(r'bu_(.*?)\\.csv', f)[0] for f in glob.glob('./stocks_data/bu*csv')]\n",
    "\n",
    "mat = np.zeros((tdDate.shape[0], len(stockIds)), dtype=np.float64)\n",
    "def sum_forcast_returns(k):\n",
    "    for i, sid in enumerate(stockIds):\n",
    "        ret = predict_stock_returns(sid, k)\n",
    "        tmpsel = np.in1d(tdDate, ret[:, 0])\n",
    "        mat[tmpsel, i] = ret[:, 1]\n",
    "\n",
    "K = 50\n",
    "sum_forcast_returns(K)\n",
    "mat[mat==0] = np.nan\n",
    "# np.savetxt('all.csv', mat, delimiter=',')"
   ]
  },
  {
   "cell_type": "code",
   "execution_count": 90,
   "metadata": {
    "collapsed": false
   },
   "outputs": [],
   "source": [
    "# matGroundTrue = np.zeros_like(mat, dtype=np.float64)\n",
    "# for i, sid in enumerate(stockIds):\n",
    "#     csv = './stocks_data/bu_%s.csv' % sid\n",
    "#     data = np.loadtxt(csv, delimiter=',', dtype=str, ndmin=2)\n",
    "#     d1 = data[:, 0].astype(np.float64)\n",
    "#     r1 = data[:, 2].astype(np.float64)\n",
    "#     tmpsel = np.in1d(tdDate, d1)\n",
    "#     matGroundTrue[tmpsel, i] = r1\n",
    "# matGroundTrue[matGroundTrue==0] = np.nan\n",
    "# np.savetxt('all.gt.csv', matGroundTrue, delimiter=',')\n",
    "# np.savetxt('baseline.csv', np.nanmean(matGroundTrue, axis=1), delimiter=',')"
   ]
  },
  {
   "cell_type": "code",
   "execution_count": 4,
   "metadata": {
    "collapsed": false
   },
   "outputs": [],
   "source": [
    "mat = np.loadtxt('all.csv', delimiter=',', dtype=np.float64)\n",
    "matGroundTrue = np.loadtxt('all.gt.csv', delimiter=',', dtype=np.float64)"
   ]
  },
  {
   "cell_type": "code",
   "execution_count": 96,
   "metadata": {
    "collapsed": false
   },
   "outputs": [],
   "source": [
    "N = 200\n",
    "argMat = np.argsort(mat, axis=1)\n",
    "ret = np.zeros(argMat.shape[0], dtype=np.float64)\n",
    "for r in range(argMat.shape[0]):\n",
    "    tmp = matGroundTrue[r, argMat[r]]\n",
    "    tmp = tmp[~np.isnan(tmp)]\n",
    "    ret[r] = (tmp[-N:].sum() - tmp[:N].sum()) / N\n",
    "np.savetxt('k.3.%sn200.csv' % K, ret, delimiter=',')"
   ]
  },
  {
   "cell_type": "code",
   "execution_count": 97,
   "metadata": {
    "collapsed": false
   },
   "outputs": [
    {
     "name": "stdout",
     "output_type": "stream",
     "text": [
      "./k.2.10n200.csv 0.0717015518455 0.0584279056591\n",
      "./k.2.50n200.csv 0.0498094232063 0.0442850893565\n",
      "./k.3.10n200.csv 0.0738408345396 0.061262843522\n",
      "./k.3.20n200.csv 0.0617398089292 0.0531703111846\n",
      "./k.3.30n200.csv 0.0558338400471 0.0483758520259\n",
      "./k.3.40n200.csv 0.0528939087895 0.0454621143018\n",
      "./k.3.50n200.csv 0.0512564372835 0.0459066917543\n",
      "./k10n200.csv 0.0582069608748 0.0457759089132\n",
      "./k20n200.csv 0.05343363998 0.0447622060246\n",
      "./k30n200.csv 0.0496470433707 0.0426373178659\n",
      "./k40n200.csv 0.0486198427458 0.0424227090715\n",
      "./k50n100.csv 0.0546127582505 0.0563057035686\n",
      "./k50n200.csv 0.0471803425917 0.0424847757347\n"
     ]
    }
   ],
   "source": [
    "for f in glob.glob('./k*csv'):\n",
    "    d = np.loadtxt(f, delimiter=',')\n",
    "    print f, d.mean(), d.std()"
   ]
  },
  {
   "cell_type": "code",
   "execution_count": null,
   "metadata": {
    "collapsed": true
   },
   "outputs": [],
   "source": []
  }
 ],
 "metadata": {
  "anaconda-cloud": {},
  "kernelspec": {
   "display_name": "Python [Root]",
   "language": "python",
   "name": "Python [Root]"
  },
  "language_info": {
   "codemirror_mode": {
    "name": "ipython",
    "version": 2
   },
   "file_extension": ".py",
   "mimetype": "text/x-python",
   "name": "python",
   "nbconvert_exporter": "python",
   "pygments_lexer": "ipython2",
   "version": "2.7.12"
  }
 },
 "nbformat": 4,
 "nbformat_minor": 0
}

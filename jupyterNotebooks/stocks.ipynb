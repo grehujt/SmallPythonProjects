{
 "cells": [
  {
   "cell_type": "code",
   "execution_count": 1,
   "metadata": {
    "collapsed": true
   },
   "outputs": [],
   "source": [
    "%matplotlib inline\n",
    "\n",
    "import glob\n",
    "import os\n",
    "\n",
    "import matplotlib.pyplot as plt\n",
    "import numpy as np\n",
    "import pandas as pd\n",
    "plt.style.use('ggplot')"
   ]
  },
  {
   "cell_type": "code",
   "execution_count": 11,
   "metadata": {
    "collapsed": false
   },
   "outputs": [],
   "source": [
    "## handle bottom-up data\n",
    "#csvs1 = glob.glob('./bottomup/*csv')\n",
    "#data1 = {}\n",
    "#for f in csvs1:\n",
    "#    content = open(f).read().splitlines()[1:]\n",
    "#    for line in content:\n",
    "#        tmp = line.split(',', 1)[0]\n",
    "#        if tmp not in data1:\n",
    "#            data1[tmp] = []\n",
    "#        data1[tmp].append('%s,%s' % (os.path.basename(f).replace('.csv', ''), line))\n",
    "#for k, v in data1.iteritems():\n",
    "#    with open('./stock_data/bu_%s.csv' % k, 'wb') as fout:\n",
    "#        fout.write('\\n'.join(v))\n",
    "\n",
    "# handle top-down data\n",
    "#csvs2 = glob.glob('./topdown/*csv')\n",
    "#data2 = {}\n",
    "#for f in csvs2:\n",
    "#    content = open(f).read().splitlines()[1:]\n",
    "#    for line in content:\n",
    "#        d, v = line.split(',', 1)\n",
    "#        d = d.replace('-', '')\n",
    "#        if d not in data2:\n",
    "#            data2[d] = []\n",
    "#        data2[d].append(v)\n",
    "#with open('./stock_data/td.csv', 'wb') as fout:\n",
    "#    for k, v in data2.iteritems():\n",
    "#        fout.write('%s,%s\\n' % (k, ','.join(v)))"
   ]
  },
  {
   "cell_type": "code",
   "execution_count": 25,
   "metadata": {
    "collapsed": false
   },
   "outputs": [
    {
     "name": "stdout",
     "output_type": "stream",
     "text": [
      "(249, 14)\n",
      "[[  2.89254787e+00   7.86000000e+01   1.50600000e+02   2.90000000e+00\n",
      "    6.75000000e+00   4.10000000e+00   7.91133106e-03  -1.50000000e+00\n",
      "    1.53533586e-01   4.93000000e+01   1.55988054e-01   6.26000000e+01\n",
      "    5.50000000e+00   3.86900042e-02]\n",
      " [  2.89254787e+00   7.86000000e+01   1.50600000e+02   2.90000000e+00\n",
      "    6.75000000e+00   4.10000000e+00   7.91133106e-03  -1.70000000e+00\n",
      "    1.53533586e-01   4.91000000e+01   1.55988054e-01   6.26000000e+01\n",
      "    5.50000000e+00   3.86900042e-02]\n",
      " [  2.80684783e+00   8.37000000e+01   1.51700000e+02   2.80000000e+00\n",
      "    6.09000000e+00   4.10000000e+00  -1.76810316e-02  -1.40000000e+00\n",
      "    3.57721839e-01   5.36000000e+01   1.86497195e-01   5.25000000e+01\n",
      "    5.50000000e+00   4.60760885e-02]\n",
      " [  2.79063139e+00   8.91000000e+01   1.57100000e+02   3.00000000e+00\n",
      "    5.63000000e+00   4.10000000e+00  -2.44312890e-02  -1.60000000e+00\n",
      "    3.09233029e-01   4.97000000e+01   2.01099025e-01   5.93000000e+01\n",
      "    5.50000000e+00   4.62313910e-02]\n",
      " [  2.79063139e+00   8.91000000e+01   1.57100000e+02   2.90000000e+00\n",
      "    5.63000000e+00   4.10000000e+00  -2.44312890e-02  -1.70000000e+00\n",
      "    3.09233029e-01   5.16000000e+01   2.01099025e-01   5.93000000e+01\n",
      "    5.50000000e+00   4.62313910e-02]]\n"
     ]
    }
   ],
   "source": [
    "# load top-down data\n",
    "data = np.loadtxt('./stocks_data/td.csv', delimiter=',')\n",
    "tdDate = data[:, 0].astype(np.float64).reshape(-1, 1)\n",
    "tdMat = data[:, 1:]\n",
    "data = None\n",
    "print tdMat.shape\n",
    "print tdMat[:5]"
   ]
  },
  {
   "cell_type": "code",
   "execution_count": 26,
   "metadata": {
    "collapsed": false
   },
   "outputs": [
    {
     "name": "stdout",
     "output_type": "stream",
     "text": [
      "(68, 482)\n",
      "[['20110731' '00164V10' '0.0349897907541' ..., '0.0' '0.0' '2011-07-31']\n",
      " ['20110831' '00164V10' '-0.0149891992693' ..., '0.0' '0.0' '2011-08-31']\n",
      " ['20110930' '00164V10' '-0.152797324281' ..., '0.0' '0.0' '2011-09-30']\n",
      " ['20111031' '00164V10' '0.125949179814' ..., '0.0' '0.0' '2011-10-31']\n",
      " ['20111130' '00164V10' '0.0286015755692' ..., '0.0' '0.0' '2011-11-30']]\n",
      "(68, 478)\n",
      "[[ 0.          0.          0.         ...,  0.          0.          0.        ]\n",
      " [ 0.          1.75649261  0.         ...,  0.          0.          0.        ]\n",
      " [ 0.          1.78779717  0.         ...,  0.          0.          0.        ]\n",
      " [ 0.          1.74342548  0.         ...,  0.          0.          0.        ]\n",
      " [ 0.          1.82444104  0.         ...,  0.          0.          0.        ]]\n",
      "(68, 1)\n",
      "[[ 0.03498979]\n",
      " [-0.0149892 ]\n",
      " [-0.15279732]\n",
      " [ 0.12594918]\n",
      " [ 0.02860158]]\n"
     ]
    }
   ],
   "source": [
    "# load individual stock data\n",
    "sid = '00164V10'\n",
    "data = np.loadtxt('./stocks_data/bu_%s.csv' % sid, delimiter=',', dtype=str)\n",
    "stockDate = data[:, 0].astype(np.float64)\n",
    "X = data[:, 3:-1].astype(np.float64)\n",
    "Y = data[:, 2].astype(np.float64).reshape(-1, 1)\n",
    "print data.shape\n",
    "print data[:5]\n",
    "print X.shape\n",
    "print X[:5]\n",
    "print Y.shape\n",
    "print Y[:5]"
   ]
  },
  {
   "cell_type": "code",
   "execution_count": 28,
   "metadata": {
    "collapsed": false
   },
   "outputs": [
    {
     "name": "stdout",
     "output_type": "stream",
     "text": [
      "(68, 492)\n",
      "[[  0.00000000e+00   0.00000000e+00   0.00000000e+00 ...,   2.60985000e+02\n",
      "    9.03000000e+00  -1.18406414e-01]\n",
      " [  0.00000000e+00   1.75649261e+00   0.00000000e+00 ...,   2.63902000e+02\n",
      "    9.03000000e+00  -1.00000575e-01]\n",
      " [  0.00000000e+00   1.78779717e+00   0.00000000e+00 ...,   1.96181000e+02\n",
      "    9.07000000e+00   1.90464813e-02]\n",
      " [  0.00000000e+00   1.74342548e+00   0.00000000e+00 ...,   2.17031000e+02\n",
      "    9.07000000e+00  -2.65718463e-02]\n",
      " [  0.00000000e+00   1.82444104e+00   0.00000000e+00 ...,   2.10333000e+02\n",
      "    9.07000000e+00  -1.14165179e-02]]\n"
     ]
    }
   ],
   "source": [
    "# combine top-down data into individual stock data as new factors\n",
    "sel = np.in1d(tdDate, stockDate)\n",
    "X_extended = np.hstack((X, tdMat[sel]))\n",
    "print X_extended.shape\n",
    "print X_extended[:5]"
   ]
  },
  {
   "cell_type": "code",
   "execution_count": 31,
   "metadata": {
    "collapsed": false
   },
   "outputs": [
    {
     "name": "stdout",
     "output_type": "stream",
     "text": [
      "[[  2.95146763e+00   2.03840000e+02   2.74000000e+02   3.20000000e+00\n",
      "    7.00000000e-02   1.70000000e+00   2.13065719e-01  -8.80000000e+00\n",
      "    4.13722793e-01   5.91000000e+01   2.06146395e-01   2.60985000e+02\n",
      "    9.03000000e+00  -1.18406414e-01]]\n"
     ]
    }
   ],
   "source": [
    "sel = np.in1d(tdDate, [20110731])\n",
    "print tdMat[sel]"
   ]
  },
  {
   "cell_type": "code",
   "execution_count": null,
   "metadata": {
    "collapsed": true
   },
   "outputs": [],
   "source": []
  }
 ],
 "metadata": {
  "anaconda-cloud": {},
  "kernelspec": {
   "display_name": "Python [Root]",
   "language": "python",
   "name": "Python [Root]"
  },
  "language_info": {
   "codemirror_mode": {
    "name": "ipython",
    "version": 2
   },
   "file_extension": ".py",
   "mimetype": "text/x-python",
   "name": "python",
   "nbconvert_exporter": "python",
   "pygments_lexer": "ipython2",
   "version": "2.7.12"
  }
 },
 "nbformat": 4,
 "nbformat_minor": 0
}

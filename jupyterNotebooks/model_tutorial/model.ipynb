{
 "cells": [
  {
   "cell_type": "code",
   "execution_count": 1,
   "metadata": {
    "collapsed": true
   },
   "outputs": [],
   "source": [
    "%matplotlib inline\n",
    "import matplotlib.pyplot as plt\n",
    "import numpy as np\n",
    "import pandas as pd\n",
    "plt.style.use('ggplot')\n",
    "from pandas import Series, DataFrame\n",
    "import numpy.random as rnd\n",
    "import scipy.stats as st"
   ]
  },
  {
   "cell_type": "code",
   "execution_count": 2,
   "metadata": {
    "collapsed": false
   },
   "outputs": [
    {
     "data": {
      "text/plain": [
       "array([ 1.09053177,  1.18330446,  0.45673659, -0.65049814, -0.02011038,\n",
       "        0.04099039,  0.50670816,  3.03137926, -0.59195109,  2.05044986])"
      ]
     },
     "execution_count": 2,
     "metadata": {},
     "output_type": "execute_result"
    }
   ],
   "source": [
    "rnd.randn(10)"
   ]
  },
  {
   "cell_type": "code",
   "execution_count": 11,
   "metadata": {
    "collapsed": true
   },
   "outputs": [],
   "source": [
    "def plot_cdf(data, plot_range=None, scale_to=None, **kwargs): \n",
    "    num_bins = len(data)    \n",
    "    sorted_data = np.array(sorted(data), dtype=np.float64) \n",
    "    data_range = sorted_data[-1] - sorted_data[0] \n",
    "    counts, bin_edges = np.histogram(sorted_data, bins=num_bins) \n",
    "    xvalues = bin_edges[1:] \n",
    "    yvalues = np.cumsum(counts) \n",
    "    if plot_range is None: \n",
    "        xmin = sorted_data[0] \n",
    "        xmax = sorted_data[-1] \n",
    "    else: \n",
    "        xmin, xmax = plot_range \n",
    "    #pad the arrays \n",
    "    xvalues = np.concatenate([[xmin, xvalues[0]], xvalues, [xmax]]) \n",
    "    yvalues = np.concatenate([[0.0, 0.0], yvalues, [yvalues.max()]]) \n",
    "    if scale_to is not None: \n",
    "        yvalues = yvalues / len(data) * scale_to \n",
    "    print xvalues.shape, yvalues.shape\n",
    "    return plt.plot(xvalues, yvalues, **kwargs) "
   ]
  },
  {
   "cell_type": "code",
   "execution_count": 16,
   "metadata": {
    "collapsed": false
   },
   "outputs": [
    {
     "name": "stdout",
     "output_type": "stream",
     "text": [
      "(50,) (50,)\n",
      "(53,) (53,)\n"
     ]
    },
    {
     "data": {
      "image/png": "[encoded data removed]",
      "text/plain": [
       "<matplotlib.figure.Figure at 0x1177ee290>"
      ]
     },
     "metadata": {},
     "output_type": "display_data"
    }
   ],
   "source": [
    "plot_cdf(rnd.randn(50), [-3, 3], 1.0, lw=2)\n",
    "for v in [0.25, 0.5, 0.75]:\n",
    "    plt.axhline(v, lw=2, ls='--', color='black')"
   ]
  },
  {
   "cell_type": "code",
   "execution_count": 19,
   "metadata": {
    "collapsed": false
   },
   "outputs": [
    {
     "name": "stdout",
     "output_type": "stream",
     "text": [
      "(100,) (100,)\n",
      "(103,) (103,)\n"
     ]
    },
    {
     "data": {
      "text/plain": [
       "<matplotlib.text.Text at 0x117a580d0>"
      ]
     },
     "execution_count": 19,
     "metadata": {},
     "output_type": "execute_result"
    },
    {
     "data": {
      "image/png": "[encoded data removed]",
      "text/plain": [
       "<matplotlib.figure.Figure at 0x117184510>"
      ]
     },
     "metadata": {},
     "output_type": "display_data"
    }
   ],
   "source": [
    "wingLens = np.fromfile('s057.txt', sep='\\n', dtype=np.float64)\n",
    "plot_cdf(wingLens, [30, 60], 100, lw=2)\n",
    "plt.xlabel('housefly wing length (x.1mm)')\n",
    "plt.ylabel('percent')"
   ]
  },
  {
   "cell_type": "code",
   "execution_count": null,
   "metadata": {
    "collapsed": true
   },
   "outputs": [],
   "source": []
  }
 ],
 "metadata": {
  "anaconda-cloud": {},
  "kernelspec": {
   "display_name": "Python [Root]",
   "language": "python",
   "name": "Python [Root]"
  },
  "language_info": {
   "codemirror_mode": {
    "name": "ipython",
    "version": 2
   },
   "file_extension": ".py",
   "mimetype": "text/x-python",
   "name": "python",
   "nbconvert_exporter": "python",
   "pygments_lexer": "ipython2",
   "version": "2.7.12"
  }
 },
 "nbformat": 4,
 "nbformat_minor": 0
}

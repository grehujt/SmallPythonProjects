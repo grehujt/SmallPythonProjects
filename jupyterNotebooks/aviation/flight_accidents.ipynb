{
 "cells": [
  {
   "cell_type": "code",
   "execution_count": 1,
   "metadata": {
    "collapsed": true
   },
   "outputs": [],
   "source": [
    "%matplotlib inline\n",
    "\n",
    "from datetime import datetime\n",
    "\n",
    "import matplotlib.pyplot as plt\n",
    "import numpy as np\n",
    "import pandas as pd\n",
    "plt.style.use('ggplot')"
   ]
  },
  {
   "cell_type": "code",
   "execution_count": 12,
   "metadata": {
    "collapsed": false
   },
   "outputs": [],
   "source": [
    "cols = ['id', 'type', 'number', 'date','location', 'country', \n",
    "        'lat', 'long', 'airport_code', 'airport_name', 'injury_severity', \n",
    "        'aircraft_damage', 'aircraft_cat', 'reg_no', 'make', 'model',\n",
    "        'amateur_built', 'no_engines', 'engine_type', 'FAR_desc', 'schedule', \n",
    "        'purpose', 'air_carrier', 'fatal','serious', 'minor', 'uninjured',\n",
    "        'weather', 'broad_phase', 'report_status', 'pub_date', 'none']  # causion: 'none' col is needed\n",
    "aaData = pd.read_csv('aviation.csv', delimiter='|', skiprows=1, names=cols)"
   ]
  },
  {
   "cell_type": "code",
   "execution_count": 14,
   "metadata": {
    "collapsed": false
   },
   "outputs": [
    {
     "data": {
      "text/html": [
       "<div>\n",
       "<table border=\"1\" class=\"dataframe\">\n",
       "  <thead>\n",
       "    <tr style=\"text-align: right;\">\n",
       "      <th></th>\n",
       "      <th>id</th>\n",
       "      <th>type</th>\n",
       "      <th>number</th>\n",
       "      <th>date</th>\n",
       "      <th>location</th>\n",
       "      <th>country</th>\n",
       "      <th>lat</th>\n",
       "      <th>long</th>\n",
       "      <th>airport_code</th>\n",
       "      <th>airport_name</th>\n",
       "      <th>...</th>\n",
       "      <th>air_carrier</th>\n",
       "      <th>fatal</th>\n",
       "      <th>serious</th>\n",
       "      <th>minor</th>\n",
       "      <th>uninjured</th>\n",
       "      <th>weather</th>\n",
       "      <th>broad_phase</th>\n",
       "      <th>report_status</th>\n",
       "      <th>pub_date</th>\n",
       "      <th>none</th>\n",
       "    </tr>\n",
       "  </thead>\n",
       "  <tbody>\n",
       "    <tr>\n",
       "      <th>0</th>\n",
       "      <td>20170501X52315</td>\n",
       "      <td>Accident</td>\n",
       "      <td>GAA17CA251</td>\n",
       "      <td>04/30/2017</td>\n",
       "      <td>Wheatland, WY</td>\n",
       "      <td>United States</td>\n",
       "      <td>42.055556</td>\n",
       "      <td>-104.928611</td>\n",
       "      <td></td>\n",
       "      <td>N/A</td>\n",
       "      <td>...</td>\n",
       "      <td></td>\n",
       "      <td></td>\n",
       "      <td></td>\n",
       "      <td></td>\n",
       "      <td>1</td>\n",
       "      <td>VMC</td>\n",
       "      <td></td>\n",
       "      <td>Preliminary</td>\n",
       "      <td>05/01/2017</td>\n",
       "      <td></td>\n",
       "    </tr>\n",
       "    <tr>\n",
       "      <th>1</th>\n",
       "      <td>20170425X60823</td>\n",
       "      <td>Accident</td>\n",
       "      <td>CEN17FA167</td>\n",
       "      <td>04/25/2017</td>\n",
       "      <td>Huntsville, TX</td>\n",
       "      <td>United States</td>\n",
       "      <td>30.794166</td>\n",
       "      <td>-95.538333</td>\n",
       "      <td></td>\n",
       "      <td>N/A</td>\n",
       "      <td>...</td>\n",
       "      <td></td>\n",
       "      <td>1</td>\n",
       "      <td></td>\n",
       "      <td></td>\n",
       "      <td></td>\n",
       "      <td>VMC</td>\n",
       "      <td></td>\n",
       "      <td>Preliminary</td>\n",
       "      <td>05/01/2017</td>\n",
       "      <td></td>\n",
       "    </tr>\n",
       "    <tr>\n",
       "      <th>2</th>\n",
       "      <td>20170427X51522</td>\n",
       "      <td>Accident</td>\n",
       "      <td>GAA17CA246</td>\n",
       "      <td>04/24/2017</td>\n",
       "      <td>Chesterfield, MO</td>\n",
       "      <td>United States</td>\n",
       "      <td></td>\n",
       "      <td></td>\n",
       "      <td></td>\n",
       "      <td></td>\n",
       "      <td>...</td>\n",
       "      <td></td>\n",
       "      <td></td>\n",
       "      <td></td>\n",
       "      <td></td>\n",
       "      <td>1</td>\n",
       "      <td></td>\n",
       "      <td></td>\n",
       "      <td>Preliminary</td>\n",
       "      <td>04/27/2017</td>\n",
       "      <td></td>\n",
       "    </tr>\n",
       "    <tr>\n",
       "      <th>3</th>\n",
       "      <td>20170427X20409</td>\n",
       "      <td>Accident</td>\n",
       "      <td>GAA17CA244</td>\n",
       "      <td>04/24/2017</td>\n",
       "      <td>Waukesha, WI</td>\n",
       "      <td>United States</td>\n",
       "      <td>43.041111</td>\n",
       "      <td>-88.236944</td>\n",
       "      <td>UES</td>\n",
       "      <td>WAUKESHA COUNTY</td>\n",
       "      <td>...</td>\n",
       "      <td></td>\n",
       "      <td></td>\n",
       "      <td></td>\n",
       "      <td></td>\n",
       "      <td>1</td>\n",
       "      <td>VMC</td>\n",
       "      <td></td>\n",
       "      <td>Preliminary</td>\n",
       "      <td>04/27/2017</td>\n",
       "      <td></td>\n",
       "    </tr>\n",
       "    <tr>\n",
       "      <th>4</th>\n",
       "      <td>20170424X60355</td>\n",
       "      <td>Accident</td>\n",
       "      <td>CEN17FA164</td>\n",
       "      <td>04/24/2017</td>\n",
       "      <td>Boonville, MO</td>\n",
       "      <td>United States</td>\n",
       "      <td>38.959167</td>\n",
       "      <td>-92.681389</td>\n",
       "      <td>VER</td>\n",
       "      <td>JESSE VIERTEL MEMORIAL</td>\n",
       "      <td>...</td>\n",
       "      <td></td>\n",
       "      <td>2</td>\n",
       "      <td></td>\n",
       "      <td></td>\n",
       "      <td></td>\n",
       "      <td>VMC</td>\n",
       "      <td>APPROACH</td>\n",
       "      <td>Preliminary</td>\n",
       "      <td>04/27/2017</td>\n",
       "      <td></td>\n",
       "    </tr>\n",
       "  </tbody>\n",
       "</table>\n",
       "<p>5 rows × 32 columns</p>\n",
       "</div>"
      ],
      "text/plain": [
       "                id        type        number          date  \\\n",
       "0  20170501X52315    Accident    GAA17CA251    04/30/2017    \n",
       "1  20170425X60823    Accident    CEN17FA167    04/25/2017    \n",
       "2  20170427X51522    Accident    GAA17CA246    04/24/2017    \n",
       "3  20170427X20409    Accident    GAA17CA244    04/24/2017    \n",
       "4  20170424X60355    Accident    CEN17FA164    04/24/2017    \n",
       "\n",
       "             location          country          lat           long  \\\n",
       "0      Wheatland, WY    United States    42.055556    -104.928611    \n",
       "1     Huntsville, TX    United States    30.794166     -95.538333    \n",
       "2   Chesterfield, MO    United States                                \n",
       "3       Waukesha, WI    United States    43.041111     -88.236944    \n",
       "4      Boonville, MO    United States    38.959167     -92.681389    \n",
       "\n",
       "  airport_code              airport_name ...  air_carrier fatal serious minor  \\\n",
       "0                                   N/A  ...                                    \n",
       "1                                   N/A  ...                 1                  \n",
       "2                                        ...                                    \n",
       "3         UES           WAUKESHA COUNTY  ...                                    \n",
       "4         VER    JESSE VIERTEL MEMORIAL  ...                 2                  \n",
       "\n",
       "  uninjured weather broad_phase  report_status      pub_date none  \n",
       "0        1     VMC                Preliminary    05/01/2017        \n",
       "1              VMC                Preliminary    05/01/2017        \n",
       "2        1                        Preliminary    04/27/2017        \n",
       "3        1     VMC                Preliminary    04/27/2017        \n",
       "4              VMC    APPROACH    Preliminary    04/27/2017        \n",
       "\n",
       "[5 rows x 32 columns]"
      ]
     },
     "execution_count": 14,
     "metadata": {},
     "output_type": "execute_result"
    }
   ],
   "source": [
    "aaData.head()"
   ]
  },
  {
   "cell_type": "code",
   "execution_count": 25,
   "metadata": {
    "collapsed": false
   },
   "outputs": [
    {
     "data": {
      "text/plain": [
       "0   2017-04-30\n",
       "1   2017-04-25\n",
       "2   2017-04-24\n",
       "3   2017-04-24\n",
       "4   2017-04-24\n",
       "Name: datetime, dtype: datetime64[ns]"
      ]
     },
     "execution_count": 25,
     "metadata": {},
     "output_type": "execute_result"
    }
   ],
   "source": [
    "aaData['datetime'] = [datetime.strptime(d, ' %m/%d/%Y ') for d in aaData['date']]\n",
    "aaData['datetime'].head()"
   ]
  },
  {
   "cell_type": "code",
   "execution_count": 26,
   "metadata": {
    "collapsed": false
   },
   "outputs": [],
   "source": [
    "aaData['month'] = [int(d.month) for d in aaData['datetime']]\n",
    "aaData['year'] = [int(d.year) for d in aaData['datetime']]"
   ]
  },
  {
   "cell_type": "code",
   "execution_count": 27,
   "metadata": {
    "collapsed": true
   },
   "outputs": [],
   "source": [
    "def decyear(date): \n",
    "    start = datetime(year=date.year, month=1, day=1) \n",
    "    end = datetime(year=date.year+1, month=1, day=1) \n",
    "    decimal = (date - start) / (end - start) \n",
    "    return date.year + decimal"
   ]
  },
  {
   "cell_type": "code",
   "execution_count": 47,
   "metadata": {
    "collapsed": false
   },
   "outputs": [],
   "source": [
    "aaData['decyear'] = aaData['datetime'].apply(decyear)"
   ]
  },
  {
   "cell_type": "code",
   "execution_count": 30,
   "metadata": {
    "collapsed": false
   },
   "outputs": [],
   "source": [
    "cols = ['lat', 'long', 'fatal', 'serious', 'minor', 'uninjured'] \n",
    "aaData[cols] = aaData[cols].applymap( \n",
    "    lambda x: np.nan if x.isspace() else float(x))"
   ]
  },
  {
   "cell_type": "code",
   "execution_count": 48,
   "metadata": {
    "collapsed": false
   },
   "outputs": [
    {
     "data": {
      "text/plain": [
       "(1948.311475409836, 2017.8260273972603)"
      ]
     },
     "execution_count": 48,
     "metadata": {},
     "output_type": "execute_result"
    },
    {
     "data": {
      "image/png": "[encoded data removed]",
      "text/plain": [
       "<matplotlib.figure.Figure at 0x11d039990>"
      ]
     },
     "metadata": {},
     "output_type": "display_data"
    }
   ],
   "source": [
    "plt.figure(figsize=(9,4.5)) \n",
    "plt.step(aaData['decyear'], aaData['fatal'], lw=1.75, where='mid', alpha=0.5, label='Fatal') \n",
    "plt.step(aaData['decyear'], aaData['minor']+200, lw=1.75, where='mid', alpha=0.5, label='Minor') \n",
    "plt.step(aaData['decyear'], aaData['serious']+200*2, lw=1.75, where='mid', alpha=0.5, label='Serious') \n",
    "plt.xticks(rotation=45) \n",
    "plt.legend(loc=(0.01,.4),fontsize=13) \n",
    "plt.ylim((-10,600)) \n",
    "plt.grid(axis='x') \n",
    "plt.title('Accident injuries {0}-{1}'.format(aaData['year'].min(), aaData['year'].max())) \n",
    "plt.text(0.2,0.92,'source: NTSB', size=12, transform=plt.gca().transAxes, ha='right')\n",
    "plt.yticks(np.arange(0,600,100), [0,100,0,100,0,100]) \n",
    "plt.xlabel('Year') \n",
    "plt.ylabel('# injuries recorded') \n",
    "plt.xlim((aaData['decyear'].min()-0.5, aaData['decyear'].max()+0.5))"
   ]
  },
  {
   "cell_type": "code",
   "execution_count": null,
   "metadata": {
    "collapsed": true
   },
   "outputs": [],
   "source": []
  }
 ],
 "metadata": {
  "anaconda-cloud": {},
  "kernelspec": {
   "display_name": "Python [Root]",
   "language": "python",
   "name": "Python [Root]"
  },
  "language_info": {
   "codemirror_mode": {
    "name": "ipython",
    "version": 2
   },
   "file_extension": ".py",
   "mimetype": "text/x-python",
   "name": "python",
   "nbconvert_exporter": "python",
   "pygments_lexer": "ipython2",
   "version": "2.7.12"
  }
 },
 "nbformat": 4,
 "nbformat_minor": 0
}

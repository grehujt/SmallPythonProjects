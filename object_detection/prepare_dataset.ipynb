{
 "cells": [
  {
   "cell_type": "code",
   "execution_count": 291,
   "metadata": {},
   "outputs": [],
   "source": [
    "%matplotlib inline\n",
    "\n",
    "import os\n",
    "import glob\n",
    "import math\n",
    "import string\n",
    "import random\n",
    "from io import BytesIO\n",
    "\n",
    "import numpy as np\n",
    "import matplotlib.pyplot as plt\n",
    "import matplotlib.patches as patches\n",
    "from skimage.transform import rescale, rotate\n",
    "\n",
    "import barcode\n",
    "from barcode.writer import ImageWriter"
   ]
  },
  {
   "cell_type": "code",
   "execution_count": 85,
   "metadata": {},
   "outputs": [
    {
     "data": {
      "text/plain": [
       "['code128',\n",
       " 'code39',\n",
       " 'ean',\n",
       " 'ean13',\n",
       " 'ean14',\n",
       " 'ean8',\n",
       " 'gs1',\n",
       " 'gtin',\n",
       " 'isbn',\n",
       " 'isbn10',\n",
       " 'isbn13',\n",
       " 'issn',\n",
       " 'itf',\n",
       " 'jan',\n",
       " 'upc',\n",
       " 'upca']"
      ]
     },
     "execution_count": 85,
     "metadata": {},
     "output_type": "execute_result"
    }
   ],
   "source": [
    "# barcode.PROVIDED_BARCODES.remove('pzn')\n",
    "barcode.PROVIDED_BARCODES"
   ]
  },
  {
   "cell_type": "code",
   "execution_count": 120,
   "metadata": {},
   "outputs": [],
   "source": [
    "digits = string.digits\n",
    "alphanums = digits + string.ascii_uppercase + '.+-$/% '\n",
    "codes = barcode.PROVIDED_BARCODES\n",
    "random.seed(8)\n",
    "\n",
    "def gen_rand_chars(num, digit_only=True):\n",
    "    if digit_only:\n",
    "        return ''.join(random.choice(digits) for i in range(num))\n",
    "    else:\n",
    "        return ''.join(random.choice(alphanums) for i in range(num))\n",
    "\n",
    "\n",
    "def gen_barcodes(num, output_dir):\n",
    "    for i in range(num):\n",
    "        code = random.choice(codes)\n",
    "        with open(os.path.join(output_dir, '%06d.png' % i), 'wb') as fp:\n",
    "            if code.startswith('code'):\n",
    "                num = random.randint(1, 20)\n",
    "                barcode.generate(code, gen_rand_chars(num, False), writer=ImageWriter(), output=fp)\n",
    "            elif code.startswith('is') or code.startswith('gs1'):\n",
    "                barcode.generate(code, '978' + gen_rand_chars(17), writer=ImageWriter(), output=fp)\n",
    "            elif code.startswith('jan'):\n",
    "                barcode.generate(code, '455' + gen_rand_chars(17), writer=ImageWriter(), output=fp)\n",
    "            else:\n",
    "                barcode.generate(code, gen_rand_chars(20), writer=ImageWriter(), output=fp)"
   ]
  },
  {
   "cell_type": "code",
   "execution_count": 121,
   "metadata": {},
   "outputs": [],
   "source": [
    "# gen_barcodes(2000, output_dir='barcodes')"
   ]
  },
  {
   "cell_type": "code",
   "execution_count": 306,
   "metadata": {},
   "outputs": [],
   "source": [
    "def gen_rand_bg(bgs, desired_w=640, desired_h=640):\n",
    "    bg = random.choice(glob.glob(bgs))\n",
    "    im = plt.imread(bg)\n",
    "    h, w, d = im.shape\n",
    "    r = random.randint(0, h-desired_h)\n",
    "    c = random.randint(0, w-desired_w)\n",
    "    return im[r:r+desired_h, c:c+desired_w, :]\n",
    "    \n",
    "\n",
    "def merge(bg_im, barcode_im, output):\n",
    "    if bg_im.dtype.name == 'uint8':\n",
    "        bg_im = bg_im.astype('float32')/255\n",
    "    if barcode_im.dtype.name == 'uint8':\n",
    "        barcode_im = barcode_im.astype('float32')/255\n",
    "    \n",
    "    h1, w1, d1 = bg_im.shape\n",
    "    h2, w2, d2 = barcode_im.shape\n",
    "    \n",
    "    if random.random() > 0.5:\n",
    "        deg = random.randint(1, 359)\n",
    "#         print('rotate deg', deg)\n",
    "        barcode_im = rotate(barcode_im, deg,resize=True, mode='constant', cval=-1)\n",
    "        h2, w2, d2 = barcode_im.shape\n",
    "    \n",
    "    sf = random.uniform(0.4, 0.9)\n",
    "    barcode_im = rescale(barcode_im, sf, multichannel=True)\n",
    "    h2, w2, d2 = barcode_im.shape\n",
    "    while h2>h1 or w2>w1:\n",
    "        sf = random.uniform(0.4, 0.9)\n",
    "    #   print('scale factor', sf)\n",
    "        barcode_im = rescale(barcode_im, sf, multichannel=True)\n",
    "        h2, w2, d2 = barcode_im.shape\n",
    "\n",
    "    r = random.randint(0, h1-h2)\n",
    "    c = random.randint(0, w1-w2)\n",
    "    tmp = barcode_im==-1\n",
    "    barcode_im[tmp] = bg_im[r:r+h2, c:c+w2, :][tmp]\n",
    "    bg_im[r:r+h2, c:c+w2, :] = barcode_im\n",
    "    plt.imsave(output, bg_im)\n",
    "\n",
    "#     plt.figure(figsize=(18, 16))\n",
    "#     fig, ax = plt.subplots(1)\n",
    "#     rect = patches.Rectangle((c, r), w2, h2, linewidth=1, edgecolor='r', facecolor='none')\n",
    "#     ax.add_patch(rect)\n",
    "#     ax.imshow(bg_im)\n",
    "    return c, r, w2, h2"
   ]
  },
  {
   "cell_type": "code",
   "execution_count": 307,
   "metadata": {},
   "outputs": [
    {
     "name": "stderr",
     "output_type": "stream",
     "text": [
      "/home/kris/.virtualenvs/charrnn/lib/python3.5/site-packages/skimage/transform/_warps.py:105: UserWarning: The default mode, 'constant', will be changed to 'reflect' in skimage 0.15.\n",
      "  warn(\"The default mode, 'constant', will be changed to 'reflect' in \"\n",
      "/home/kris/.virtualenvs/charrnn/lib/python3.5/site-packages/skimage/transform/_warps.py:110: UserWarning: Anti-aliasing will be enabled by default in skimage 0.15 to avoid aliasing artifacts when down-sampling images.\n",
      "  warn(\"Anti-aliasing will be enabled by default in skimage 0.15 to \"\n"
     ]
    }
   ],
   "source": [
    "NUM_SAMPLE = 20000\n",
    "input_bgs = './bg/*jpg'\n",
    "input_barcodes = './barcodes/*png'\n",
    "output_dir = './images'\n",
    "\n",
    "barcode_files = glob.glob(input_barcodes)\n",
    "bboxes = np.zeros((NUM_SAMPLE, 4), dtype=np.int32)\n",
    "for i in range(NUM_SAMPLE):\n",
    "    barcode = plt.imread(random.choice(barcode_files))\n",
    "    output = os.path.join(output_dir, '%06d.jpg' % i)\n",
    "    bboxes[i] = merge(gen_rand_bg(input_bgs), barcode, output)\n",
    "np.savetxt('bbox.csv', bboxes, '%d')"
   ]
  },
  {
   "cell_type": "code",
   "execution_count": 282,
   "metadata": {},
   "outputs": [
    {
     "name": "stdout",
     "output_type": "stream",
     "text": [
      "(280, 551, 3) float32 (588, 588, 3) float64\n"
     ]
    },
    {
     "data": {
      "text/plain": [
       "<matplotlib.image.AxesImage at 0x7f2b3452f0f0>"
      ]
     },
     "execution_count": 282,
     "metadata": {},
     "output_type": "execute_result"
    },
    {
     "data": {
      "image/png": "[encoded data removed]",
      "text/plain": [
       "<Figure size 432x288 with 1 Axes>"
      ]
     },
     "metadata": {},
     "output_type": "display_data"
    }
   ],
   "source": [
    "from skimage.transform import rescale, rotate\n",
    "im3 = rotate(im2, 45, resize=True, mode='constant', cval=0)\n",
    "# im3 = im2+im3[:-1, :, :]\n",
    "# im3[im3>1] = 1\n",
    "print(im2.shape, im2.dtype, im3.shape, im3.dtype)\n",
    "plt.imshow(im3)"
   ]
  },
  {
   "cell_type": "code",
   "execution_count": 311,
   "metadata": {},
   "outputs": [],
   "source": [
    "# yolo format\n",
    "output_yolo_file = './images/%06d.txt'\n",
    "desired_w=640\n",
    "desired_h=640\n",
    "bboxes = np.loadtxt('bbox.csv')\n",
    "for i in range(bboxes.shape[0]):\n",
    "    with open(output_yolo_file % i, 'wb') as fout:\n",
    "        fout.write(('0 %f %f %f %f' % ((bboxes[i, 0]+bboxes[i, 2]/2)/desired_w,\n",
    "                                      (bboxes[i, 1]+bboxes[i, 3]/2)/desired_h,\n",
    "                                      bboxes[i, 2]/desired_w,\n",
    "                                      bboxes[i, 3]/desired_h\n",
    "                                     )).encode('utf8'))"
   ]
  },
  {
   "cell_type": "code",
   "execution_count": 314,
   "metadata": {},
   "outputs": [],
   "source": [
    "train_file = 'train.txt'\n",
    "test_file = 'test.txt'\n",
    "train_test_split = 0.75\n",
    "yolo_annots = glob.glob('/yfsdata/multi-barcode/images/*jpg')\n",
    "random.shuffle(yolo_annots)\n",
    "split_point = int(train_test_split * len(yolo_annots))\n",
    "with open(train_file, 'wb') as fout:\n",
    "    fout.write(('\\n'.join(yolo_annots[:split_point])).encode('utf8'))\n",
    "with open(test_file, 'wb') as fout:\n",
    "    fout.write(('\\n'.join(yolo_annots[split_point:])).encode('utf8'))"
   ]
  },
  {
   "cell_type": "code",
   "execution_count": 316,
   "metadata": {},
   "outputs": [],
   "source": [
    "# ./darknet detector calc_anchors /yfsdata/multi-barcode/barcode.data -num_of_clusters 9 -width 608 -height 608\n",
    "# ./darknet detector train /yfsdata/multi-barcode/barcode.data /yfsdata/multi-barcode/yolo.cfg /home/kris/darknet/darknet53.conv.74 -gpus 0,1\n",
    "./darknet detector map /yfsdata/multi-barcode/barcode.data /yfsdata/multi-barcode/yolo.cfg ~/barcode_backup/yolo.backup"
   ]
  },
  {
   "cell_type": "code",
   "execution_count": 319,
   "metadata": {},
   "outputs": [
    {
     "name": "stdout",
     "output_type": "stream",
     "text": [
      "done\n"
     ]
    }
   ],
   "source": [
    "#pascal format\n",
    "import xml.etree.ElementTree as ET\n",
    "\n",
    "input_ims = './images/%06d.jpg'\n",
    "output_pascal_xml = './annots/%06d.xml'\n",
    "desired_w=640\n",
    "desired_h=640\n",
    "bboxes = np.loadtxt('bbox.csv').astype('int32')\n",
    "for i in range(bboxes.shape[0]):\n",
    "# for i in range(1):\n",
    "    annot = ET.Element('annotation')\n",
    "    ET.SubElement(annot, 'filename').text = '%06d.jpg' % i\n",
    "    ET.SubElement(annot, 'folder').text = 'images'\n",
    "    ET.SubElement(annot, 'path').text = os.path.abspath(input_ims % i)\n",
    "    ET.SubElement(annot, 'segmented').text = '0'\n",
    "    size = ET.SubElement(annot, 'size')\n",
    "    ET.SubElement(size, 'width').text = str(desired_w)\n",
    "    ET.SubElement(size, 'height').text = str(desired_h)\n",
    "    ET.SubElement(size, 'depth').text = '3'\n",
    "    \n",
    "    obj = ET.SubElement(annot, 'object')\n",
    "    ET.SubElement(obj, 'name').text = 'barcode'\n",
    "    ET.SubElement(obj, 'pose').text = 'Unspecified'\n",
    "    ET.SubElement(obj, 'truncated').text = '0'\n",
    "    ET.SubElement(obj, 'difficult').text = '0'\n",
    "\n",
    "    bndbox = ET.SubElement(obj, 'bndbox')\n",
    "    ET.SubElement(bndbox, 'xmax').text = str(bboxes[i, 0]+bboxes[i, 2])\n",
    "    ET.SubElement(bndbox, 'xmin').text = str(bboxes[i, 0])\n",
    "    ET.SubElement(bndbox, 'ymax').text = str(bboxes[i, 1]+bboxes[i, 3])\n",
    "    ET.SubElement(bndbox, 'ymin').text = str(bboxes[i, 1])\n",
    "\n",
    "    with open(output_pascal_xml % i, 'wb') as fout:\n",
    "        fout.write(ET.tostring(annot))\n",
    "print('done')"
   ]
  }
 ],
 "metadata": {
  "kernelspec": {
   "display_name": "Python 3",
   "language": "python",
   "name": "python3"
  },
  "language_info": {
   "codemirror_mode": {
    "name": "ipython",
    "version": 3
   },
   "file_extension": ".py",
   "mimetype": "text/x-python",
   "name": "python",
   "nbconvert_exporter": "python",
   "pygments_lexer": "ipython3",
   "version": "3.5.2"
  }
 },
 "nbformat": 4,
 "nbformat_minor": 2
}
